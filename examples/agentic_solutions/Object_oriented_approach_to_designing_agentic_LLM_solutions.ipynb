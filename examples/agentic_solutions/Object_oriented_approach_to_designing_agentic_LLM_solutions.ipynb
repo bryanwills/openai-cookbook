{
 "cells": [
  {
   "cell_type": "markdown",
   "metadata": {},
   "source": [
    "## Building a Scalable Agentic Solution with Object-Oriented Principles  \n",
    "Designing scalable LLM solutions goes beyond simply leveraging powerful models—it also requires application code that is easy to maintain, extend, and modify as requirements evolve. By applying Object-Oriented Programming (OOP) principles, we can build modular, testable systems that scale alongside changing demands. This Cookbook demonstrates how to develop an OOP-based application using OpenAI’s Chat Completions API, highlighting key design techniques such as inheritance, interfaces, dependency injection, and the factory pattern.\n",
    "\n",
    "### Brief Overview of Our Objective  \n",
    "In Object-Oriented Programming, a class is a blueprint for creating objects that model real-world entities, bundling data with associated behaviors. In this Cookbook, we will build a WeatherAgent class. By instantiating a weather_agent object, we can represent an agent that checks the weather for a given ZIP code.\n",
    "\n",
    "```python\n",
    "weather_agent = WeatherAgent()\n",
    "\n",
    "result = weather_agent.task(\"What is the weather in 90210 right now?\")\n",
    "\n",
    "print(\"Agent response:\", result)\n",
    "```\n",
    "\n",
    "These three lines demonstrate everything your application code needs to know about the WeatherAgent:\n",
    "\n",
    "1. Instantiate the agent.  \n",
    "2. Call the task method to handle a user request.  \n",
    "3. Retrieve and use the result.  \n",
    "4. Ask a follow up question, in a stateful manner (ChatCompletions API is stateless).\n",
    "\n",
    "\n",
    "In an enterprise environment, you could have multiple agents. Once each Agent Class is developed and tested, it can be reused across different applications. This agent-based architecture is designed to be both modular and scalable, while also hiding implementation details within the class definitions and their interfaces.\n",
    "\n",
    "### Agent Signature  \n",
    "\n",
    "The WeatherAgent class provides a static method called signature(). This method lets developers quickly see the agent’s capabilities without having to instantiate it. Static methods belong to the class itself, so you do not need to create a class instance to call them.\n",
    "\n",
    "```python\n",
    "print(json.dumps(WeatherAgent.signature(), indent=4))\n",
    "\n",
    "{\n",
    "    \"developer_prompt\": \"You are a Weather Agent. You answer questions about the weather.\",\n",
    "    \"model_name\": \"gpt-4o\",\n",
    "    \"tools\": [\n",
    "        {\n",
    "            \"type\": \"function\",\n",
    "            \"function\": {\n",
    "                \"name\": \"check_weather\",\n",
    "                \"description\": \"Check the current weather for a given US zipcode.\",\n",
    "                \"parameters\": {\n",
    "                    \"type\": \"object\",\n",
    "                    \"properties\": {\n",
    "                        \"zipcode\": {\n",
    "                            \"type\": \"string\",\n",
    "                            \"description\": \"The 5-digit US ZIP code for which to check the weather.\"\n",
    "                        }\n",
    "                    },\n",
    "                    \"required\": [\n",
    "                        \"zipcode\"\n",
    "                    ]\n",
    "                }\n",
    "            }\n",
    "        }\n",
    "    ]\n",
    "}\n",
    "```  \n",
    "\n",
    "### Prerequisite Knowledge  \n",
    "\n",
    "You may want to brush up on your knowledge of Object-Oriented Programming (OOP) principles. Briefly, OOP is a programming paradigm that uses objects and classes to represent real-world entities and their interactions. The key design principles (often referred to as SOLID principles) are:\n",
    "\n",
    "1. Single Responsibility Principle (SRP): A class should have only one responsibility.\n",
    "2. Open/Closed Principle (OCP): Classes should be open for extension but closed for modification.\n",
    "3. Liskov Substitution Principle (LSP): Objects of a superclass should be replaceable with objects of a subclass without affecting the correctness of the program.\n",
    "4. Interface Segregation Principle (ISP): Clients should not be forced to depend on interfaces they do not use.\n",
    "5. Dependency Inversion Principle (DIP): High-level modules should not depend on low-level modules. Both should depend on abstractions.\n",
    "\n",
    "Python is an object-oriented language, and you can learn more about it [here](https://docs.python.org/3/tutorial/classes.html).\n",
    "\n",
    "With that, let’s dive into the details of the solution."
   ]
  },
  {
   "cell_type": "markdown",
   "metadata": {},
   "source": [
    "### Overview of Core Components\n",
    "\n",
    "The solution is provided in the directory `./object_oriented_agents/` you can examine the code to follow along. For brevity, this Cookbook will focus on the overview of the architecture and a concrete implementation for demonstration purpose. The code is organized into the following directories:\n",
    "\n",
    "1. Core Classes: Form the basis of the application and provide a common interface for all agents, tools, and messages. \n",
    "- **BaseAgent**: This is the base class for all agents. It provides a common interface for all agents to follow.\n",
    "- **ToolInterface**: The interface definition for all tools. It provides a common interface for all tools to follow.\n",
    "- **ToolManager**: The tool manager that registers a given tool with an Agent. \n",
    "- **ChatMessages**: A message dictionary that stores the messages for a given conversation. \n",
    "\n",
    "2. Services: Provide a common interface for language models. A language model interface is required for the agent to invoke LLM API. \n",
    "- **LanguageModelInterface**: This is the interface for all language models. It provides a common interface for all language models to follow.\n",
    "- **OpenAILanguageModel**: This is a concrete implementation of the LanguageModelInterface that uses the OpenAI Chat Completions API.\n",
    "\n",
    "3. Utils:\n",
    "- **Logger**: This is the logger for the application. It provides a common interface for all logging to follow.\n",
    "- **OpenAIClientFactory**: This is the factory for the OpenAI client. It returns an instance of the OpenAI client. \n",
    "\n",
    "### Key Associations and Dependencies\n",
    "- BaseAgent, ToolInterface, and LanguageModelInterface are abstract classes meant to be extended for specific use cases.\n",
    "- BaseAgent composes a ChatMessages instance for managing conversation logs (i.e., storing and retrieving messages).\n",
    "- BaseAgent optionally holds a ToolManager but always requires a LanguageModelInterface.\n",
    "- ToolManager maintains a set of ToolInterface implementations, uses ChatMessages for context, and delegates API calls to the language model.\n",
    "- OpenAILanguageModel relies on OpenAIClientFactory for client creation, ensuring a clean separation of concerns around API-key resolution and client configuration."
   ]
  },
  {
   "cell_type": "markdown",
   "metadata": {},
   "source": [
    "The following diagram represents the main classes, interfaces and their relationship.\n",
    "\n",
    "![UML Diagram](./resources/diagrams/images/class_diagram_mermaid.png)"
   ]
  },
  {
   "cell_type": "markdown",
   "metadata": {},
   "source": [
    "**Prerequisites**:\n",
    "\n",
    "We will use the WeatherAgent as an example to demonstrate the implementation of the object_oriented_agents. Make sure : \n",
    "\n",
    "1. Append the path to the `resources/object_oriented_agents/` directory to the Python path so that we you can import the classes. \n",
    "2. Obtain an API key for the OpenAI. Set it in the environment variable `OPENAI_API_KEY`. \n",
    "3. Obtain an API key for the OpenWeather API. Set it in the environment variable `OPENWEATHER_API_KEY`. \n"
   ]
  },
  {
   "cell_type": "code",
   "execution_count": 10,
   "metadata": {},
   "outputs": [],
   "source": [
    "import sys, os\n",
    "\n",
    "# Add the parent directory of 'core_classes' to the Python path\n",
    "sys.path.append(os.path.abspath('resources/object_oriented_agents/'))"
   ]
  },
  {
   "cell_type": "markdown",
   "metadata": {},
   "source": [
    "### Object-Oriented Approach to Build a Weather Agent with Tool Calling\n",
    "\n",
    "Using the object-oriented approach, we will build a Weather agent that can fetch and display weather given a zipcode. Its a three step process as follows:\n",
    "\n",
    "#### Step 1: Define the Tool\n",
    "\n",
    "Define the **CheckWeatherTool**, which is a concrete implementation of the **ToolInterface**. The interface ensures tools are defined in a consistent manner. \n",
    "\n",
    "**ToolInterface** requires concrete implementations to: \n",
    "1. Define the `get_definition()` method, which returns the JSON/dict definition of this tool's function. Conforms to OpenAI function calling specifications. \n",
    "2. Define the `run()` method, which executes the tool using the provided arguments and returns the result as a string.  \n",
    "\n",
    "The tool definition for the LLM tool call and the implementation of the tool execution is wrapped in the same class for maintainability. In step 2, we will use the **ToolManager** class to register the tool with the agent. Note that once a tool such as **CheckWeatherTool** is defined, it can be registered with multiple agents to use. "
   ]
  },
  {
   "cell_type": "code",
   "execution_count": 11,
   "metadata": {
    "ExecuteTime": {
     "end_time": "2024-12-24T20:30:23.919683Z",
     "start_time": "2024-12-24T20:30:23.914204Z"
    }
   },
   "outputs": [],
   "source": [
    "import requests\n",
    "from typing import Dict, Any\n",
    "from resources.object_oriented_agents.core_classes.tool_interface import ToolInterface\n",
    "\n",
    "class CheckWeatherTool(ToolInterface):\n",
    "    \"\"\"\n",
    "    A tool to check the latest weather given a zipcode.\n",
    "    \"\"\"\n",
    "\n",
    "    def __init__(self, openweather_api_key: str = None):\n",
    "        # Pass the API key for the weather service \n",
    "        self.openweather_api_key = openweather_api_key\n",
    "\n",
    "    def get_definition(self) -> Dict[str, Any]:\n",
    "        \"\"\"\n",
    "        Return the JSON/dict definition of this tool's function.\n",
    "        Conforms to OpenAI function calling specifications.\n",
    "        \"\"\"\n",
    "        return {\n",
    "            \"function\": {\n",
    "                \"name\": \"check_weather\",\n",
    "                \"description\": \"Check the current weather for a given US zipcode.\",\n",
    "                \"parameters\": {\n",
    "                    \"type\": \"object\",\n",
    "                    \"properties\": {\n",
    "                        \"zipcode\": {\n",
    "                            \"type\": \"string\",\n",
    "                            \"description\": \"The 5-digit US ZIP code for which to check the weather.\"\n",
    "                        }\n",
    "                    },\n",
    "                    \"required\": [\"zipcode\"]\n",
    "                }\n",
    "            }\n",
    "        }\n",
    "\n",
    "    def run(self, arguments: Dict[str, Any]) -> str:\n",
    "        \"\"\"\n",
    "        Execute the tool using the provided arguments and return a result as a string.\n",
    "        Here, we'll call the OpenWeather API (if you have a key) or just return a mock result.\n",
    "        \"\"\"\n",
    "        zipcode = arguments.get(\"zipcode\")\n",
    "        if not zipcode:\n",
    "            return \"Error: No zipcode provided.\"\n",
    "\n",
    "        if not self.openweather_api_key:\n",
    "            raise ValueError(\"Error: No API key provided for weather service.\")\n",
    "        try:\n",
    "            # Example call to OpenWeatherMap (if you have an API key and want real data).\n",
    "            # Adjust the endpoint and parameters as needed for your chosen weather service.\n",
    "            url = f\"https://api.openweathermap.org/data/2.5/weather\"\n",
    "            params = {\n",
    "                \"zip\": zipcode,\n",
    "                \"appid\": self.openweather_api_key,\n",
    "                \"units\": \"imperial\"\n",
    "            }\n",
    "            response = requests.get(url, params=params)\n",
    "            response.raise_for_status()\n",
    "            data = response.json()\n",
    "\n",
    "            # Extracting simple weather info\n",
    "            city_name = data.get(\"name\", \"Unknown location\")\n",
    "            main_weather = data[\"weather\"][0][\"description\"]\n",
    "            temp = data[\"main\"][\"temp\"]\n",
    "\n",
    "            return f\"The current weather in {city_name} ({zipcode}): {main_weather}, {temp}°F.\"\n",
    "        except Exception as e:\n",
    "            return f\"Error when calling weather API: {str(e)}\""
   ]
  },
  {
   "cell_type": "markdown",
   "metadata": {},
   "source": [
    "### Step 2: Define the Agent\n",
    "\n",
    "Next, define the **WeatherAgent** that uses the **CheckWeatherTool**. Here are the steps to define the agent:\n",
    "\n",
    "- Define the Agent: **WeatherAgent** class that extends the **BaseAgent** class. You can choose to pass the **developer_prompt** and **model_name** to the **BaseAgent** class in the constructor.  \n",
    "- Setup the tools: Define the **setup_tools()** method to register the **CheckWeatherTool** with the **ToolManager**.\n",
    "\n",
    "In addition to the tools, the Agent also requires a **LanguageModelInterface** to invoke the LLM API.  \n",
    "\n",
    "- Setup the language model: Define the **language_model_interface** to use the **OpenAILanguageModel** class. This is a concrete implementation of the **LanguageModelInterface** that uses the OpenAI Chat Completions API.\n",
    "\n",
    "Additionally, we provide the agent ability to use a logger. The developer can pass the logger to the **BaseAgent** class in the constructor. If not provided, the agent will use a default logger. \n",
    "\n",
    "- Define the **logger** to use the **get_logger** function from the **logger** module. This is a utility function that returns a logger instance with the specified name and level. Logging level can be set to DEBUG for verbose output as the Agent performs its tasks. \n"
   ]
  },
  {
   "cell_type": "code",
   "execution_count": 12,
   "metadata": {
    "ExecuteTime": {
     "end_time": "2024-12-24T20:30:26.445883Z",
     "start_time": "2024-12-24T20:30:26.115030Z"
    }
   },
   "outputs": [],
   "source": [
    "# object_oriented_agents/agents/weather_agent.py\n",
    "\n",
    "from typing import Optional\n",
    "import logging\n",
    "\n",
    "from dotenv import load_dotenv\n",
    "import os\n",
    "\n",
    "from resources.object_oriented_agents.core_classes.base_agent import BaseAgent\n",
    "from resources.object_oriented_agents.core_classes.tool_manager import ToolManager\n",
    "from resources.object_oriented_agents.services.openai_language_model import OpenAILanguageModel\n",
    "from resources.object_oriented_agents.utils.logger import get_logger\n",
    "\n",
    "# Set the verbosity level: DEBUG for verbose output\n",
    "# In production environments you can redirect the logger's output to a log file \n",
    "app_logger = get_logger(\"WeatherAgent\", level=logging.INFO)\n",
    "\n",
    "\n",
    "# Create a LanguageModelInterface instance using the OpenAILanguageModel\n",
    "language_model_api_interface = OpenAILanguageModel(api_key=os.getenv(\"OPENAI_API_KEY\"), logger=app_logger)\n",
    "\n",
    "load_dotenv()\n",
    "openweather_api_key = os.getenv(\"OPENWEATHER_API_KEY\")  \n",
    "\n",
    "class WeatherAgent(BaseAgent):\n",
    "    \"\"\"\n",
    "    An agent that can check the weather by calling the CheckWeatherTool.\n",
    "    \"\"\"\n",
    "    # Here we pass the Agent attributes in the constructor, developer can choose to override these \n",
    "    def __init__(\n",
    "        self,\n",
    "        developer_prompt: str = \"You are a Weather Agent. You answer questions about the weather.\",\n",
    "        model_name: str = \"gpt-4o\",\n",
    "        logger= app_logger,\n",
    "        language_model_interface = language_model_api_interface,\n",
    "        openweather_api_key: Optional[str] = openweather_api_key,\n",
    "    ):\n",
    "        super().__init__(developer_prompt, model_name, logger, language_model_interface)\n",
    "        # Create a tool manager specifically for this agent\n",
    "        self.tool_manager = ToolManager(logger=self.logger, language_model_interface=self.language_model_interface)\n",
    "        self.openweather_api_key = openweather_api_key\n",
    "        # Set up the weather tool\n",
    "        self.setup_tools()\n",
    "\n",
    "    def setup_tools(self) -> None:\n",
    "        \"\"\"\n",
    "        Register all the tools needed by this agent, e.g., the weather tool.\n",
    "        \"\"\"\n",
    "        weather_tool = CheckWeatherTool(openweather_api_key=self.openweather_api_key)\n",
    "        self.tool_manager.register_tool(weather_tool)"
   ]
  },
  {
   "cell_type": "markdown",
   "metadata": {},
   "source": [
    "### Step 3: Instantiate the WeatherAgent object\n",
    "\n",
    "Now that we have defined the agent, we can create an instance of the agent and use it to handle a user's task. In setting up the agent, we have abstracted out a lot of the details of the implementation. The application code it self is clean and simple, and does not need to know about the underlying implementation details of the agent. "
   ]
  },
  {
   "cell_type": "code",
   "execution_count": 13,
   "metadata": {
    "ExecuteTime": {
     "end_time": "2024-12-24T20:30:28.049822Z",
     "start_time": "2024-12-24T20:30:27.550094Z"
    }
   },
   "outputs": [
    {
     "name": "stdout",
     "output_type": "stream",
     "text": [
      "Agent response: The current weather in Beverly Hills (90210) shows scattered clouds with a temperature of about 60.62°F.\n"
     ]
    }
   ],
   "source": [
    "# Create the WeatherAgent\n",
    "agent = WeatherAgent()\n",
    "\n",
    "# Example user input\n",
    "user_question = \"What is the weather in 90210 right now?\"\n",
    "\n",
    "# Have the agent handle the user's task\n",
    "result = agent.task(user_question)\n",
    "\n",
    "print(\"Agent response:\", result)"
   ]
  },
  {
   "cell_type": "markdown",
   "metadata": {},
   "source": [
    "Let's pass another task to the agent. "
   ]
  },
  {
   "cell_type": "code",
   "execution_count": 14,
   "metadata": {},
   "outputs": [
    {
     "name": "stdout",
     "output_type": "stream",
     "text": [
      "Agent response: The current weather in Livermore (94551) features broken clouds with a temperature of approximately 59.7°F.\n"
     ]
    }
   ],
   "source": [
    "user_question = \"What is the weather in 94551 right now?\"\n",
    "\n",
    "# Have the agent handle the user's task\n",
    "result = agent.task(user_question)\n",
    "\n",
    "print(\"Agent response:\", result)"
   ]
  },
  {
   "cell_type": "markdown",
   "metadata": {},
   "source": [
    "The framework also provides a signature method that returns a dictionary with the developer prompt, model name, and tool definitions. This is useful for developers to understand the agent's capabilities and to use it in other applications."
   ]
  },
  {
   "cell_type": "code",
   "execution_count": 15,
   "metadata": {},
   "outputs": [
    {
     "name": "stdout",
     "output_type": "stream",
     "text": [
      "{\n",
      "    \"developer_prompt\": \"You are a Weather Agent. You answer questions about the weather.\",\n",
      "    \"model_name\": \"gpt-4o\",\n",
      "    \"tools\": [\n",
      "        {\n",
      "            \"type\": \"function\",\n",
      "            \"function\": {\n",
      "                \"name\": \"check_weather\",\n",
      "                \"description\": \"Check the current weather for a given US zipcode.\",\n",
      "                \"parameters\": {\n",
      "                    \"type\": \"object\",\n",
      "                    \"properties\": {\n",
      "                        \"zipcode\": {\n",
      "                            \"type\": \"string\",\n",
      "                            \"description\": \"The 5-digit US ZIP code for which to check the weather.\"\n",
      "                        }\n",
      "                    },\n",
      "                    \"required\": [\n",
      "                        \"zipcode\"\n",
      "                    ]\n",
      "                }\n",
      "            }\n",
      "        }\n",
      "    ]\n",
      "}\n"
     ]
    }
   ],
   "source": [
    "import json\n",
    "print(json.dumps(agent.signature(), indent=4))\n"
   ]
  },
  {
   "cell_type": "markdown",
   "metadata": {},
   "source": [
    "This agentic architecture offers flexibity to instantiate objects of the WeatherAgent class by overriding the default arguments. Let's demonstrate a variation where we instantiate an agent that only responds in Spanish. "
   ]
  },
  {
   "cell_type": "code",
   "execution_count": 16,
   "metadata": {},
   "outputs": [
    {
     "name": "stdout",
     "output_type": "stream",
     "text": [
      "Spanish agent response:  El clima actual en Nueva York (10128) es de cielos nublados con una temperatura de 37.62°F.\n"
     ]
    }
   ],
   "source": [
    "# Let's demonstrate an example where user can choose to override the default arguments \n",
    "spanish_agent = WeatherAgent(developer_prompt=\"You are a weather agent who only responds in Spanish\")\n",
    "\n",
    "spanish_agent_response = spanish_agent.task(\"What's the weather in 10128?\")\n",
    "\n",
    "print(\"Spanish agent response: \", spanish_agent_response)"
   ]
  },
  {
   "cell_type": "markdown",
   "metadata": {},
   "source": [
    "### Key Design Principles for Object-Oriented Approach\n",
    "\n",
    "1. Abstraction & Interfaces\n",
    "- Abstract classes (BaseAgent, ToolInterface, LanguageModelInterface) define clear contracts, making it easy to swap in new implementations—such as different language models or tools—without disrupting existing code.\n",
    "- This flexibility is key to building scalable, future-proof systems.\n",
    "\n",
    "2. Encapsulation & Single Responsibility\n",
    "- Each class is designed around a specific concern:\n",
    "- ChatMessages manages message storage and manipulation.\n",
    "- ToolManager handles tool registration, definitions, and invocation logic.\n",
    "- BaseAgent orchestrates user tasks, message flow, and the interactions between the language model and tools.\n",
    "- OpenAILanguageModel encapsulates direct communication with the OpenAI API.\n",
    "- Following the Single Responsibility Principle (SRP) ensures that classes remain focused, maintainable, and easy to reason about.\n",
    "\n",
    "3. Dendency Injection & Inversion\n",
    "- Dependencies (e.g., LanguageModelInterface, logging utilities, ToolManager) are passed into constructors or provided through interfaces, preventing rigid coupling to concrete implementations.\n",
    "- This design aligns with the Dependency Inversion Principle, where high-level modules (BaseAgent) depend on abstractions (LanguageModelInterface) rather than concrete classes (OpenAILanguageModel).\n",
    "\n",
    "4. Factory Pattern\n",
    "- OpenAIClientFactory centralizes client creation, including any logic for API keys, environment variables, or other configuration details.\n",
    "- By encapsulating client instantiation, you can easily adjust how clients are created without scattering changes throughout the codebase.\n",
    "\n",
    "5. Separation of Concerns\n",
    "- Responsibilities for tool invocation, message handling, and external API communication are each isolated within their own classes.\n",
    "- This separation yields a system that is straightforward to maintain, debug, and extend over time—an essential trait in scalable architectures."
   ]
  }
 ],
 "metadata": {
  "kernelspec": {
   "display_name": "Python 3",
   "language": "python",
   "name": "python3"
  },
  "language_info": {
   "codemirror_mode": {
    "name": "ipython",
    "version": 3
   },
   "file_extension": ".py",
   "mimetype": "text/x-python",
   "name": "python",
   "nbconvert_exporter": "python",
   "pygments_lexer": "ipython3",
   "version": "3.13.0"
  }
 },
 "nbformat": 4,
 "nbformat_minor": 2
}
