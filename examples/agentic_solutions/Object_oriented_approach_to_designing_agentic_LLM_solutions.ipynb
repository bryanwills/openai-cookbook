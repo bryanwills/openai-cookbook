{
 "cells": [
  {
   "cell_type": "markdown",
   "metadata": {},
   "source": [
    "## Building a Scalable Agentic Solution with Object-Oriented Principles\n",
    "\n",
    "Designing scalable LLM solutions requires more than just raw performance of the models — it also demands code that is easy to maintain, extend, and modify as requirements evolve. By leveraging Object-Oriented Programming (OOP) principles, we can create modular, testable systems that will stand the test of time. This Cookbook walks you through an OOP-driven implementation for OpenAI’s Chat Completions API, using design techniques such as inheritance, interfaces, dependency injection, and the factory pattern.\n",
    "\n",
    "### Overview of Core Components\n",
    "\n",
    "The solution is provided in the directory `./object_oriented_agents/` you can examine the code to follow along. For brevity, this Cookbook will focus on the overview of the architecture and a concrete implementation for demonstration purpose.\n",
    "\n",
    "1.Base Classes Through Inheritance\n",
    "- BaseAgent, ToolInterface, and LanguageModelInterface are abstract classes meant to be extended for specific use cases.\n",
    "- OpenAILanguageModel is a concrete class implementing LanguageModelInterface, providing a bridge to the OpenAI Chat Completions API.\n",
    "\n",
    "\n",
    "2.Key Associations and Dependencies\n",
    "- BaseAgent composes a ChatMessages instance for managing conversation logs (i.e., storing and retrieving messages).\n",
    "- BaseAgent optionally holds a ToolManager but always requires a LanguageModelInterface.\n",
    "- ToolManager maintains a set of ToolInterface implementations, uses ChatMessages for context, and delegates API calls to the language model.\n",
    "- OpenAILanguageModel relies on OpenAIClientFactory for client creation, ensuring a clean separation of concerns around API-key resolution and client configuration.\n",
    "\n"
   ]
  },
  {
   "cell_type": "markdown",
   "metadata": {},
   "source": [
    "The following diagram represents the main classes, interfaces and their relationship.\n",
    "\n",
    "![UML Diagram](./resources/images/oo_agents_uml_diagram.png)"
   ]
  },
  {
   "cell_type": "markdown",
   "metadata": {},
   "source": [
    "### OOP Best Practices in Action\n",
    "\n",
    "1. Abstraction & Interfaces\n",
    "- Abstract classes (BaseAgent, ToolInterface, LanguageModelInterface) define clear contracts, making it easy to swap in new implementations—such as different language models or tools—without disrupting existing code.\n",
    "- This flexibility is key to building scalable, future-proof systems.\n",
    "\n",
    "2. Encapsulation & Single Responsibility\n",
    "- Each class is designed around a specific concern:\n",
    "- ChatMessages manages message storage and manipulation.\n",
    "- ToolManager handles tool registration, definitions, and invocation logic.\n",
    "- BaseAgent orchestrates user tasks, message flow, and the interactions between the language model and tools.\n",
    "- OpenAILanguageModel encapsulates direct communication with the OpenAI API.\n",
    "- Following the Single Responsibility Principle (SRP) ensures that classes remain focused, maintainable, and easy to reason about.\n",
    "\n",
    "3. Dendency Injection & Inversion\n",
    "- Dependencies (e.g., LanguageModelInterface, logging utilities, ToolManager) are passed into constructors or provided through interfaces, preventing rigid coupling to concrete implementations.\n",
    "- This design aligns with the Dependency Inversion Principle, where high-level modules (BaseAgent) depend on abstractions (LanguageModelInterface) rather than concrete classes (OpenAILanguageModel).\n",
    "\n",
    "4. Factory Pattern\n",
    "- OpenAIClientFactory centralizes client creation, including any logic for API keys, environment variables, or other configuration details.\n",
    "- By encapsulating client instantiation, you can easily adjust how clients are created without scattering changes throughout the codebase.\n",
    "\n",
    "5. Separation of Concerns\n",
    "- Responsibilities for tool invocation, message handling, and external API communication are each isolated within their own classes.\n",
    "- This separation yields a system that is straightforward to maintain, debug, and extend over time—an essential trait in scalable architectures."
   ]
  },
  {
   "cell_type": "markdown",
   "metadata": {},
   "source": [
    "### Building a Weather Agent with Tool Calling\n",
    "\n",
    "As an example of a concrete implementation, let's build a Weather agent that can fetch and display weather given a zipcode.\n",
    "\n",
    "First, let's define the **CheckWeatherTool**. Note that the tool definition for the LLM tool call and the implementation of the tool execution is wrapped in the same class for maintainability."
   ]
  },
  {
   "cell_type": "code",
   "execution_count": 11,
   "metadata": {
    "ExecuteTime": {
     "end_time": "2024-12-24T20:30:22.915086Z",
     "start_time": "2024-12-24T20:30:22.912353Z"
    }
   },
   "outputs": [],
   "source": [
    "import sys, os\n",
    "\n",
    "# Add the parent directory of 'core_classes' to the Python path\n",
    "sys.path.append(os.path.abspath('resources/object_oriented_agents/'))"
   ]
  },
  {
   "cell_type": "code",
   "execution_count": 12,
   "metadata": {
    "ExecuteTime": {
     "end_time": "2024-12-24T20:30:23.919683Z",
     "start_time": "2024-12-24T20:30:23.914204Z"
    }
   },
   "outputs": [],
   "source": [
    "import requests\n",
    "from typing import Dict, Any\n",
    "from resources.object_oriented_agents.core_classes.tool_interface import ToolInterface\n",
    "\n",
    "class CheckWeatherTool(ToolInterface):\n",
    "    \"\"\"\n",
    "    A tool to check the latest weather given a zipcode.\n",
    "    \"\"\"\n",
    "\n",
    "    def __init__(self, openweather_api_key: str = None):\n",
    "        # You can pass an API key for a weather service if you have one.\n",
    "        # Otherwise, this can be left as None and the run() method can be mocked or adapted.\n",
    "        self.openweather_api_key = openweather_api_key\n",
    "\n",
    "    def get_definition(self) -> Dict[str, Any]:\n",
    "        \"\"\"\n",
    "        Return the JSON/dict definition of this tool's function.\n",
    "        Conforms to OpenAI function calling specifications.\n",
    "        \"\"\"\n",
    "        return {\n",
    "            \"function\": {\n",
    "                \"name\": \"check_weather\",\n",
    "                \"description\": \"Check the current weather for a given US zipcode.\",\n",
    "                \"parameters\": {\n",
    "                    \"type\": \"object\",\n",
    "                    \"properties\": {\n",
    "                        \"zipcode\": {\n",
    "                            \"type\": \"string\",\n",
    "                            \"description\": \"The 5-digit US ZIP code for which to check the weather.\"\n",
    "                        }\n",
    "                    },\n",
    "                    \"required\": [\"zipcode\"]\n",
    "                }\n",
    "            }\n",
    "        }\n",
    "\n",
    "    def run(self, arguments: Dict[str, Any]) -> str:\n",
    "        \"\"\"\n",
    "        Execute the tool using the provided arguments and return a result as a string.\n",
    "        Here, we'll call the OpenWeather API (if you have a key) or just return a mock result.\n",
    "        \"\"\"\n",
    "        zipcode = arguments.get(\"zipcode\")\n",
    "        if not zipcode:\n",
    "            return \"Error: No zipcode provided.\"\n",
    "\n",
    "        if not self.openweather_api_key:\n",
    "            raise ValueError(\"Error: No API key provided for weather service.\")\n",
    "        try:\n",
    "            # Example call to OpenWeatherMap (if you have an API key and want real data).\n",
    "            # Adjust the endpoint and parameters as needed for your chosen weather service.\n",
    "            url = f\"https://api.openweathermap.org/data/2.5/weather\"\n",
    "            params = {\n",
    "                \"zip\": zipcode,\n",
    "                \"appid\": self.openweather_api_key,\n",
    "                \"units\": \"imperial\"\n",
    "            }\n",
    "            response = requests.get(url, params=params)\n",
    "            response.raise_for_status()\n",
    "            data = response.json()\n",
    "\n",
    "            # Extracting simple weather info\n",
    "            city_name = data.get(\"name\", \"Unknown location\")\n",
    "            main_weather = data[\"weather\"][0][\"description\"]\n",
    "            temp = data[\"main\"][\"temp\"]\n",
    "\n",
    "            return f\"The current weather in {city_name} ({zipcode}): {main_weather}, {temp}°F.\"\n",
    "        except Exception as e:\n",
    "            return f\"Error when calling weather API: {str(e)}\""
   ]
  },
  {
   "cell_type": "markdown",
   "metadata": {},
   "source": [
    "Now, let's define an agent to use the tool."
   ]
  },
  {
   "cell_type": "code",
   "execution_count": 13,
   "metadata": {
    "ExecuteTime": {
     "end_time": "2024-12-24T20:30:26.445883Z",
     "start_time": "2024-12-24T20:30:26.115030Z"
    }
   },
   "outputs": [],
   "source": [
    "# object_oriented_agents/agents/weather_agent.py\n",
    "\n",
    "from typing import Optional\n",
    "import logging\n",
    "\n",
    "from dotenv import load_dotenv\n",
    "import os\n",
    "\n",
    "\n",
    "from resources.object_oriented_agents.core_classes.base_agent import BaseAgent\n",
    "from resources.object_oriented_agents.core_classes.tool_manager import ToolManager\n",
    "from resources.object_oriented_agents.utils.logger import get_logger\n",
    "from resources.object_oriented_agents.services.language_model_interface import LanguageModelInterface\n",
    "from resources.object_oriented_agents.services.openai_language_model import OpenAILanguageModel\n",
    "\n",
    "# Set the verbosity level: DEBUG for verbose output, INFO for normal output\n",
    "app_logger = get_logger(\"MyApp\", level=logging.DEBUG)\n",
    "\n",
    "\n",
    "# Create a LanguageModelInterface instance using the OpenAILanguageModel\n",
    "language_model_api_interface = OpenAILanguageModel(api_key=os.getenv(\"OPENAI_API_KEY\"), logger=app_logger)\n",
    "\n",
    "load_dotenv()\n",
    "openweather_api_key = os.getenv(\"OPENWEATHER_API_KEY\")  \n",
    "\n",
    "class WeatherAgent(BaseAgent):\n",
    "    \"\"\"\n",
    "    An agent that can check the weather by calling the CheckWeatherTool.\n",
    "    \"\"\"\n",
    "\n",
    "    def __init__(\n",
    "        self,\n",
    "        developer_prompt: str = \"You are a Weather Agent. You answer questions about the weather.\",\n",
    "        model_name: str = \"gpt-4o\",\n",
    "        logger= app_logger,\n",
    "        language_model_interface: Optional[LanguageModelInterface] = language_model_api_interface,\n",
    "        openweather_api_key: Optional[str] = openweather_api_key,\n",
    "    ):\n",
    "        super().__init__(developer_prompt, model_name, logger, language_model_interface)\n",
    "        # Create a tool manager specifically for this agent\n",
    "        self.tool_manager = ToolManager(logger=self.logger, language_model_interface=self.language_model_interface)\n",
    "        self.openweather_api_key = openweather_api_key\n",
    "        # Set up the weather tool\n",
    "        self.setup_tools()\n",
    "\n",
    "    def setup_tools(self) -> None:\n",
    "        \"\"\"\n",
    "        Register all the tools needed by this agent, e.g., the weather tool.\n",
    "        \"\"\"\n",
    "        weather_tool = CheckWeatherTool(openweather_api_key=self.openweather_api_key)\n",
    "        self.tool_manager.register_tool(weather_tool)"
   ]
  },
  {
   "cell_type": "code",
   "execution_count": null,
   "metadata": {
    "ExecuteTime": {
     "end_time": "2024-12-24T20:30:28.049822Z",
     "start_time": "2024-12-24T20:30:27.550094Z"
    }
   },
   "outputs": [],
   "source": [
    "# Create the WeatherAgent\n",
    "agent = WeatherAgent()\n",
    "\n",
    "# Example user input\n",
    "user_question = \"What is the weather in 90210 right now?\"\n",
    "\n",
    "# Have the agent handle the user's task\n",
    "result = agent.task(user_question)\n",
    "\n",
    "print(\"Agent response:\", result)"
   ]
  },
  {
   "cell_type": "code",
   "execution_count": null,
   "metadata": {},
   "outputs": [],
   "source": [
    "user_question = \"What is the weather in 94551 right now?\"\n",
    "\n",
    "# Have the agent handle the user's task\n",
    "result = agent.task(user_question)\n",
    "\n",
    "print(\"Agent response:\", result)"
   ]
  }
 ],
 "metadata": {
  "kernelspec": {
   "display_name": "Python 3",
   "language": "python",
   "name": "python3"
  },
  "language_info": {
   "codemirror_mode": {
    "name": "ipython",
    "version": 3
   },
   "file_extension": ".py",
   "mimetype": "text/x-python",
   "name": "python",
   "nbconvert_exporter": "python",
   "pygments_lexer": "ipython3",
   "version": "3.13.0"
  }
 },
 "nbformat": 4,
 "nbformat_minor": 2
}
